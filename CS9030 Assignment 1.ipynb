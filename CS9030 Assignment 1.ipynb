{
 "cells": [
  {
   "cell_type": "markdown",
   "id": "095078df-954c-4158-b02f-e96495817b6d",
   "metadata": {},
   "source": [
    "---\n",
    "\n",
    "### **Name:**             Soubhik Sen  \n",
    "### **Roll No:**          24MA4108  \n",
    "### **Dept:**             MTech in Operation Research  \n",
    "### **Subject Code:**     CS9030  \n",
    "### **Subject Name:**     Data Mining  \n",
    "### **Professor:**        Dr. Monalisa Mandal  \n",
    "### **Date of Submission:** Oct 13, 2024  \n",
    "\n",
    "---\n",
    "\n",
    "### GitHub Repository\n",
    "\n",
    "#### [CS9030 Assignment-1](https://github.com/sensoubhik11/CS9030-assignment1)\n",
    "\n",
    "---\n",
    "\n",
    "### Problem Statement\n",
    "*Implement the following algorithms on the Iris dataset using Python/R language.*\n",
    "-  K-means algorithm: This has to be done ourselves without using libraries. Also provide visualization of the output as a Cluster plot.\n",
    "-  DBSCAN algorithm (density-based clustering): This can be done using Python/R packages. Also provide visualization of the output as a Cluster plot.\n",
    "-  Agglomerative Hierarchical clustering algorithm: This can be done using Python/R packages. For output, only a dendrogram (as a tree structure) is sufficient (suitable package available)."
   ]
  }
 ],
 "metadata": {
  "kernelspec": {
   "display_name": "Python 3 (ipykernel)",
   "language": "python",
   "name": "python3"
  },
  "language_info": {
   "codemirror_mode": {
    "name": "ipython",
    "version": 3
   },
   "file_extension": ".py",
   "mimetype": "text/x-python",
   "name": "python",
   "nbconvert_exporter": "python",
   "pygments_lexer": "ipython3",
   "version": "3.9.0"
  }
 },
 "nbformat": 4,
 "nbformat_minor": 5
}
